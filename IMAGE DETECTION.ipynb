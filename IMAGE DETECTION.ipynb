{
 "cells": [
  {
   "cell_type": "code",
   "execution_count": 1,
   "id": "1d46acec",
   "metadata": {},
   "outputs": [],
   "source": [
    "import os\n",
    "import tensorflow as tf\n",
    "import cv2"
   ]
  },
  {
   "cell_type": "code",
   "execution_count": 2,
   "id": "1138f425",
   "metadata": {},
   "outputs": [
    {
     "name": "stdout",
     "output_type": "stream",
     "text": [
      "Model: \"sequential_3\"\n",
      "_________________________________________________________________\n",
      " Layer (type)                Output Shape              Param #   \n",
      "=================================================================\n",
      " conv2d_5 (Conv2D)           (None, 100, 100, 200)     2000      \n",
      "                                                                 \n",
      " activation_3 (Activation)   (None, 100, 100, 200)     0         \n",
      "                                                                 \n",
      " max_pooling2d_3 (MaxPooling  (None, 50, 50, 200)      0         \n",
      " 2D)                                                             \n",
      "                                                                 \n",
      " conv2d_6 (Conv2D)           (None, 50, 50, 150)       270150    \n",
      "                                                                 \n",
      " activation_4 (Activation)   (None, 50, 50, 150)       0         \n",
      "                                                                 \n",
      " max_pooling2d_4 (MaxPooling  (None, 25, 25, 150)      0         \n",
      " 2D)                                                             \n",
      "                                                                 \n",
      " conv2d_7 (Conv2D)           (None, 25, 25, 100)       135100    \n",
      "                                                                 \n",
      " activation_5 (Activation)   (None, 25, 25, 100)       0         \n",
      "                                                                 \n",
      " max_pooling2d_5 (MaxPooling  (None, 12, 12, 100)      0         \n",
      " 2D)                                                             \n",
      "                                                                 \n",
      " flatten_1 (Flatten)         (None, 14400)             0         \n",
      "                                                                 \n",
      " dropout_1 (Dropout)         (None, 14400)             0         \n",
      "                                                                 \n",
      " dense_2 (Dense)             (None, 50)                720050    \n",
      "                                                                 \n",
      " dense_3 (Dense)             (None, 7)                 357       \n",
      "                                                                 \n",
      "=================================================================\n",
      "Total params: 1,127,657\n",
      "Trainable params: 1,127,657\n",
      "Non-trainable params: 0\n",
      "_________________________________________________________________\n"
     ]
    }
   ],
   "source": [
    "model=tf.keras.models.load_model(\"Expresson.h5\")\n",
    "model.summary()"
   ]
  },
  {
   "cell_type": "code",
   "execution_count": 3,
   "id": "5e1848d5",
   "metadata": {},
   "outputs": [],
   "source": [
    "from tensorflow.keras.preprocessing import image\n",
    "import numpy as np\n",
    "import matplotlib.pyplot as plt"
   ]
  },
  {
   "cell_type": "code",
   "execution_count": 5,
   "id": "0e5b3a37",
   "metadata": {},
   "outputs": [
    {
     "name": "stdout",
     "output_type": "stream",
     "text": [
      "1/1 [==============================] - 0s 417ms/step\n",
      "2\n",
      "[2.44500503e-01 2.62509193e-02 2.59134918e-01 2.06199944e-01\n",
      " 2.04070285e-01 5.97325005e-02 1.10903566e-04]\n",
      "fear\n"
     ]
    },
    {
     "data": {
      "image/png": "[encoded data removed]",
      "text/plain": [
       "<Figure size 432x288 with 1 Axes>"
      ]
     },
     "metadata": {
      "needs_background": "light"
     },
     "output_type": "display_data"
    }
   ],
   "source": [
    "h,w=100,100\n",
    "\n",
    "img = image.load_img('10.jpg', target_size=(100,100,1))\n",
    "imag = cv2.imread('10.jpg')\n",
    "gray=cv2.cvtColor(np.float32(img),cv2.COLOR_BGR2GRAY)\n",
    "out = np.expand_dims(gray,axis=0)\n",
    "final_img = out/255.0\n",
    "\n",
    "pred = model.predict(final_img)\n",
    "max_index=np.argmax(pred[0])\n",
    "print(max_index)\n",
    "emotions= ('angry', 'disgust', 'fear', 'happy', 'neutral', 'sad', 'surprise')\n",
    "predicted_emotion=emotions[max_index]\n",
    "print(pred[0])\n",
    "print(predicted_emotion)\n",
    "\n",
    "plt.imshow(cv2.cvtColor(imag, cv2.COLOR_BGR2RGB))\n",
    "plt.show()"
   ]
  },
  {
   "cell_type": "code",
   "execution_count": null,
   "id": "6231d3f4",
   "metadata": {},
   "outputs": [],
   "source": []
  }
 ],
 "metadata": {
  "kernelspec": {
   "display_name": "Python 3 (ipykernel)",
   "language": "python",
   "name": "python3"
  },
  "language_info": {
   "codemirror_mode": {
    "name": "ipython",
    "version": 3
   },
   "file_extension": ".py",
   "mimetype": "text/x-python",
   "name": "python",
   "nbconvert_exporter": "python",
   "pygments_lexer": "ipython3",
   "version": "3.9.7"
  }
 },
 "nbformat": 4,
 "nbformat_minor": 5
}
